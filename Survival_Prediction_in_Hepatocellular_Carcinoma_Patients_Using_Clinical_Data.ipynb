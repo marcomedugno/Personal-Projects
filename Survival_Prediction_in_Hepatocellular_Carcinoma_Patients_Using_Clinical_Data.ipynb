{
  "nbformat": 4,
  "nbformat_minor": 0,
  "metadata": {
    "colab": {
      "provenance": [],
      "authorship_tag": "ABX9TyNc643Lg+ksQlLmvQkEOQxN",
      "include_colab_link": true
    },
    "kernelspec": {
      "name": "python3",
      "display_name": "Python 3"
    },
    "language_info": {
      "name": "python"
    }
  },
  "cells": [
    {
      "cell_type": "markdown",
      "metadata": {
        "id": "view-in-github",
        "colab_type": "text"
      },
      "source": [
        "<a href=\"https://colab.research.google.com/github/marcomedugno/Personal-Projects/blob/main/Survival_Prediction_in_Hepatocellular_Carcinoma_Patients_Using_Clinical_Data.ipynb\" target=\"_parent\"><img src=\"https://colab.research.google.com/assets/colab-badge.svg\" alt=\"Open In Colab\"/></a>"
      ]
    },
    {
      "cell_type": "markdown",
      "source": [
        "# **Survival Prediction in Hepatocellular Carcinoma Patients Using Clinical Data**\n",
        "\n",
        "*by Marco Medugno*"
      ],
      "metadata": {
        "id": "RHxkmM41lWhN"
      }
    },
    {
      "cell_type": "markdown",
      "source": [
        "## **Overview**\n",
        "\n",
        "**Hepatocellular carcinoma (HCC)** is one of the most common and deadly forms of liver cancer. Timely prediction of survival outcomes is critical for triaging patients into high- vs low-risk care pathways. In this project, I built a predictive model for **1-year survival** using real clinical data from 165 patients at a university hospital in Portugal. The dataset includes 49 clinical, demographic, and lab features aligned with **EASL-EORTC guidelines** for managing HCC."
      ],
      "metadata": {
        "id": "DYaomoC8chV7"
      }
    },
    {
      "cell_type": "code",
      "source": [
        "# @title\n",
        "import pandas as pd\n",
        "import numpy as np\n",
        "import kagglehub\n",
        "from kagglehub import KaggleDatasetAdapter\n",
        "from sklearn.impute import SimpleImputer\n",
        "from sklearn.preprocessing import OrdinalEncoder\n",
        "from sklearn.model_selection import train_test_split\n",
        "from sklearn.ensemble import RandomForestClassifier\n",
        "from sklearn.metrics import classification_report, roc_auc_score\n",
        "import matplotlib.pyplot as plt\n",
        "from sklearn.metrics import roc_curve, auc\n",
        "import shap\n",
        "\n",
        "# Suppress Warnings\n",
        "import warnings\n",
        "warnings.filterwarnings('ignore')"
      ],
      "metadata": {
        "id": "cACWmL0YGnnc",
        "cellView": "form"
      },
      "execution_count": 2,
      "outputs": []
    },
    {
      "cell_type": "code",
      "execution_count": 3,
      "metadata": {
        "colab": {
          "base_uri": "https://localhost:8080/",
          "height": 270
        },
        "id": "q3OmzGSLGgwM",
        "outputId": "a3636801-9e11-4449-ec3d-efc8791bdf2c",
        "cellView": "form"
      },
      "outputs": [
        {
          "output_type": "stream",
          "name": "stdout",
          "text": [
            "Downloading from https://www.kaggle.com/api/v1/datasets/download/mrsantos/hcc-dataset?dataset_version_number=5&file_name=hcc-data.csv...\n"
          ]
        },
        {
          "output_type": "stream",
          "name": "stderr",
          "text": [
            "100%|██████████| 22.2k/22.2k [00:00<00:00, 2.64MB/s]\n"
          ]
        },
        {
          "output_type": "execute_result",
          "data": {
            "text/plain": [
              "   Gender  Symptoms  Alcohol  HBsAg  HBeAg  HBcAb  HCVAb  Cirrhosis  Endemic  \\\n",
              "0       0       NaN        0    0.0    0.0    0.0    1.0          1      NaN   \n",
              "1       1       0.0        1    1.0    0.0    1.0    0.0          1      0.0   \n",
              "2       1       1.0        1    0.0    0.0    0.0    0.0          1      0.0   \n",
              "3       1       1.0        1    1.0    0.0    1.0    0.0          1      0.0   \n",
              "4       1       0.0        1    0.0    NaN    0.0    0.0          1      0.0   \n",
              "\n",
              "   Smoking  ...    ALP  Total_Proteins  Creatinine  Nodules  Major_Dim  \\\n",
              "0      NaN  ...    NaN             NaN         NaN      1.0        1.8   \n",
              "1      1.0  ...  109.0             7.0        2.10      5.0       13.0   \n",
              "2      1.0  ...  174.0             8.1        1.11      2.0       15.7   \n",
              "3      1.0  ...  109.0             6.9        1.80      1.0        9.0   \n",
              "4      NaN  ...  396.0             5.6        0.90      1.0       10.0   \n",
              "\n",
              "   Direct_Bilirubin  Iron  Oxygen_Saturation  Ferritin  Survival  \n",
              "0               NaN   NaN                NaN       NaN         1  \n",
              "1               0.1  28.0                6.0      16.0         1  \n",
              "2               0.2   NaN                NaN       NaN         0  \n",
              "3               NaN  59.0               15.0      22.0         1  \n",
              "4               1.4  53.0               22.0     111.0         0  \n",
              "\n",
              "[5 rows x 50 columns]"
            ],
            "text/html": [
              "\n",
              "  <div id=\"df-e4421cdb-eab9-486d-a205-0905f7858794\" class=\"colab-df-container\">\n",
              "    <div>\n",
              "<style scoped>\n",
              "    .dataframe tbody tr th:only-of-type {\n",
              "        vertical-align: middle;\n",
              "    }\n",
              "\n",
              "    .dataframe tbody tr th {\n",
              "        vertical-align: top;\n",
              "    }\n",
              "\n",
              "    .dataframe thead th {\n",
              "        text-align: right;\n",
              "    }\n",
              "</style>\n",
              "<table border=\"1\" class=\"dataframe\">\n",
              "  <thead>\n",
              "    <tr style=\"text-align: right;\">\n",
              "      <th></th>\n",
              "      <th>Gender</th>\n",
              "      <th>Symptoms</th>\n",
              "      <th>Alcohol</th>\n",
              "      <th>HBsAg</th>\n",
              "      <th>HBeAg</th>\n",
              "      <th>HBcAb</th>\n",
              "      <th>HCVAb</th>\n",
              "      <th>Cirrhosis</th>\n",
              "      <th>Endemic</th>\n",
              "      <th>Smoking</th>\n",
              "      <th>...</th>\n",
              "      <th>ALP</th>\n",
              "      <th>Total_Proteins</th>\n",
              "      <th>Creatinine</th>\n",
              "      <th>Nodules</th>\n",
              "      <th>Major_Dim</th>\n",
              "      <th>Direct_Bilirubin</th>\n",
              "      <th>Iron</th>\n",
              "      <th>Oxygen_Saturation</th>\n",
              "      <th>Ferritin</th>\n",
              "      <th>Survival</th>\n",
              "    </tr>\n",
              "  </thead>\n",
              "  <tbody>\n",
              "    <tr>\n",
              "      <th>0</th>\n",
              "      <td>0</td>\n",
              "      <td>NaN</td>\n",
              "      <td>0</td>\n",
              "      <td>0.0</td>\n",
              "      <td>0.0</td>\n",
              "      <td>0.0</td>\n",
              "      <td>1.0</td>\n",
              "      <td>1</td>\n",
              "      <td>NaN</td>\n",
              "      <td>NaN</td>\n",
              "      <td>...</td>\n",
              "      <td>NaN</td>\n",
              "      <td>NaN</td>\n",
              "      <td>NaN</td>\n",
              "      <td>1.0</td>\n",
              "      <td>1.8</td>\n",
              "      <td>NaN</td>\n",
              "      <td>NaN</td>\n",
              "      <td>NaN</td>\n",
              "      <td>NaN</td>\n",
              "      <td>1</td>\n",
              "    </tr>\n",
              "    <tr>\n",
              "      <th>1</th>\n",
              "      <td>1</td>\n",
              "      <td>0.0</td>\n",
              "      <td>1</td>\n",
              "      <td>1.0</td>\n",
              "      <td>0.0</td>\n",
              "      <td>1.0</td>\n",
              "      <td>0.0</td>\n",
              "      <td>1</td>\n",
              "      <td>0.0</td>\n",
              "      <td>1.0</td>\n",
              "      <td>...</td>\n",
              "      <td>109.0</td>\n",
              "      <td>7.0</td>\n",
              "      <td>2.10</td>\n",
              "      <td>5.0</td>\n",
              "      <td>13.0</td>\n",
              "      <td>0.1</td>\n",
              "      <td>28.0</td>\n",
              "      <td>6.0</td>\n",
              "      <td>16.0</td>\n",
              "      <td>1</td>\n",
              "    </tr>\n",
              "    <tr>\n",
              "      <th>2</th>\n",
              "      <td>1</td>\n",
              "      <td>1.0</td>\n",
              "      <td>1</td>\n",
              "      <td>0.0</td>\n",
              "      <td>0.0</td>\n",
              "      <td>0.0</td>\n",
              "      <td>0.0</td>\n",
              "      <td>1</td>\n",
              "      <td>0.0</td>\n",
              "      <td>1.0</td>\n",
              "      <td>...</td>\n",
              "      <td>174.0</td>\n",
              "      <td>8.1</td>\n",
              "      <td>1.11</td>\n",
              "      <td>2.0</td>\n",
              "      <td>15.7</td>\n",
              "      <td>0.2</td>\n",
              "      <td>NaN</td>\n",
              "      <td>NaN</td>\n",
              "      <td>NaN</td>\n",
              "      <td>0</td>\n",
              "    </tr>\n",
              "    <tr>\n",
              "      <th>3</th>\n",
              "      <td>1</td>\n",
              "      <td>1.0</td>\n",
              "      <td>1</td>\n",
              "      <td>1.0</td>\n",
              "      <td>0.0</td>\n",
              "      <td>1.0</td>\n",
              "      <td>0.0</td>\n",
              "      <td>1</td>\n",
              "      <td>0.0</td>\n",
              "      <td>1.0</td>\n",
              "      <td>...</td>\n",
              "      <td>109.0</td>\n",
              "      <td>6.9</td>\n",
              "      <td>1.80</td>\n",
              "      <td>1.0</td>\n",
              "      <td>9.0</td>\n",
              "      <td>NaN</td>\n",
              "      <td>59.0</td>\n",
              "      <td>15.0</td>\n",
              "      <td>22.0</td>\n",
              "      <td>1</td>\n",
              "    </tr>\n",
              "    <tr>\n",
              "      <th>4</th>\n",
              "      <td>1</td>\n",
              "      <td>0.0</td>\n",
              "      <td>1</td>\n",
              "      <td>0.0</td>\n",
              "      <td>NaN</td>\n",
              "      <td>0.0</td>\n",
              "      <td>0.0</td>\n",
              "      <td>1</td>\n",
              "      <td>0.0</td>\n",
              "      <td>NaN</td>\n",
              "      <td>...</td>\n",
              "      <td>396.0</td>\n",
              "      <td>5.6</td>\n",
              "      <td>0.90</td>\n",
              "      <td>1.0</td>\n",
              "      <td>10.0</td>\n",
              "      <td>1.4</td>\n",
              "      <td>53.0</td>\n",
              "      <td>22.0</td>\n",
              "      <td>111.0</td>\n",
              "      <td>0</td>\n",
              "    </tr>\n",
              "  </tbody>\n",
              "</table>\n",
              "<p>5 rows × 50 columns</p>\n",
              "</div>\n",
              "    <div class=\"colab-df-buttons\">\n",
              "\n",
              "  <div class=\"colab-df-container\">\n",
              "    <button class=\"colab-df-convert\" onclick=\"convertToInteractive('df-e4421cdb-eab9-486d-a205-0905f7858794')\"\n",
              "            title=\"Convert this dataframe to an interactive table.\"\n",
              "            style=\"display:none;\">\n",
              "\n",
              "  <svg xmlns=\"http://www.w3.org/2000/svg\" height=\"24px\" viewBox=\"0 -960 960 960\">\n",
              "    <path d=\"M120-120v-720h720v720H120Zm60-500h600v-160H180v160Zm220 220h160v-160H400v160Zm0 220h160v-160H400v160ZM180-400h160v-160H180v160Zm440 0h160v-160H620v160ZM180-180h160v-160H180v160Zm440 0h160v-160H620v160Z\"/>\n",
              "  </svg>\n",
              "    </button>\n",
              "\n",
              "  <style>\n",
              "    .colab-df-container {\n",
              "      display:flex;\n",
              "      gap: 12px;\n",
              "    }\n",
              "\n",
              "    .colab-df-convert {\n",
              "      background-color: #E8F0FE;\n",
              "      border: none;\n",
              "      border-radius: 50%;\n",
              "      cursor: pointer;\n",
              "      display: none;\n",
              "      fill: #1967D2;\n",
              "      height: 32px;\n",
              "      padding: 0 0 0 0;\n",
              "      width: 32px;\n",
              "    }\n",
              "\n",
              "    .colab-df-convert:hover {\n",
              "      background-color: #E2EBFA;\n",
              "      box-shadow: 0px 1px 2px rgba(60, 64, 67, 0.3), 0px 1px 3px 1px rgba(60, 64, 67, 0.15);\n",
              "      fill: #174EA6;\n",
              "    }\n",
              "\n",
              "    .colab-df-buttons div {\n",
              "      margin-bottom: 4px;\n",
              "    }\n",
              "\n",
              "    [theme=dark] .colab-df-convert {\n",
              "      background-color: #3B4455;\n",
              "      fill: #D2E3FC;\n",
              "    }\n",
              "\n",
              "    [theme=dark] .colab-df-convert:hover {\n",
              "      background-color: #434B5C;\n",
              "      box-shadow: 0px 1px 3px 1px rgba(0, 0, 0, 0.15);\n",
              "      filter: drop-shadow(0px 1px 2px rgba(0, 0, 0, 0.3));\n",
              "      fill: #FFFFFF;\n",
              "    }\n",
              "  </style>\n",
              "\n",
              "    <script>\n",
              "      const buttonEl =\n",
              "        document.querySelector('#df-e4421cdb-eab9-486d-a205-0905f7858794 button.colab-df-convert');\n",
              "      buttonEl.style.display =\n",
              "        google.colab.kernel.accessAllowed ? 'block' : 'none';\n",
              "\n",
              "      async function convertToInteractive(key) {\n",
              "        const element = document.querySelector('#df-e4421cdb-eab9-486d-a205-0905f7858794');\n",
              "        const dataTable =\n",
              "          await google.colab.kernel.invokeFunction('convertToInteractive',\n",
              "                                                    [key], {});\n",
              "        if (!dataTable) return;\n",
              "\n",
              "        const docLinkHtml = 'Like what you see? Visit the ' +\n",
              "          '<a target=\"_blank\" href=https://colab.research.google.com/notebooks/data_table.ipynb>data table notebook</a>'\n",
              "          + ' to learn more about interactive tables.';\n",
              "        element.innerHTML = '';\n",
              "        dataTable['output_type'] = 'display_data';\n",
              "        await google.colab.output.renderOutput(dataTable, element);\n",
              "        const docLink = document.createElement('div');\n",
              "        docLink.innerHTML = docLinkHtml;\n",
              "        element.appendChild(docLink);\n",
              "      }\n",
              "    </script>\n",
              "  </div>\n",
              "\n",
              "\n",
              "    <div id=\"df-85d5104c-3fff-4c62-be00-ca6bb36af2f2\">\n",
              "      <button class=\"colab-df-quickchart\" onclick=\"quickchart('df-85d5104c-3fff-4c62-be00-ca6bb36af2f2')\"\n",
              "                title=\"Suggest charts\"\n",
              "                style=\"display:none;\">\n",
              "\n",
              "<svg xmlns=\"http://www.w3.org/2000/svg\" height=\"24px\"viewBox=\"0 0 24 24\"\n",
              "     width=\"24px\">\n",
              "    <g>\n",
              "        <path d=\"M19 3H5c-1.1 0-2 .9-2 2v14c0 1.1.9 2 2 2h14c1.1 0 2-.9 2-2V5c0-1.1-.9-2-2-2zM9 17H7v-7h2v7zm4 0h-2V7h2v10zm4 0h-2v-4h2v4z\"/>\n",
              "    </g>\n",
              "</svg>\n",
              "      </button>\n",
              "\n",
              "<style>\n",
              "  .colab-df-quickchart {\n",
              "      --bg-color: #E8F0FE;\n",
              "      --fill-color: #1967D2;\n",
              "      --hover-bg-color: #E2EBFA;\n",
              "      --hover-fill-color: #174EA6;\n",
              "      --disabled-fill-color: #AAA;\n",
              "      --disabled-bg-color: #DDD;\n",
              "  }\n",
              "\n",
              "  [theme=dark] .colab-df-quickchart {\n",
              "      --bg-color: #3B4455;\n",
              "      --fill-color: #D2E3FC;\n",
              "      --hover-bg-color: #434B5C;\n",
              "      --hover-fill-color: #FFFFFF;\n",
              "      --disabled-bg-color: #3B4455;\n",
              "      --disabled-fill-color: #666;\n",
              "  }\n",
              "\n",
              "  .colab-df-quickchart {\n",
              "    background-color: var(--bg-color);\n",
              "    border: none;\n",
              "    border-radius: 50%;\n",
              "    cursor: pointer;\n",
              "    display: none;\n",
              "    fill: var(--fill-color);\n",
              "    height: 32px;\n",
              "    padding: 0;\n",
              "    width: 32px;\n",
              "  }\n",
              "\n",
              "  .colab-df-quickchart:hover {\n",
              "    background-color: var(--hover-bg-color);\n",
              "    box-shadow: 0 1px 2px rgba(60, 64, 67, 0.3), 0 1px 3px 1px rgba(60, 64, 67, 0.15);\n",
              "    fill: var(--button-hover-fill-color);\n",
              "  }\n",
              "\n",
              "  .colab-df-quickchart-complete:disabled,\n",
              "  .colab-df-quickchart-complete:disabled:hover {\n",
              "    background-color: var(--disabled-bg-color);\n",
              "    fill: var(--disabled-fill-color);\n",
              "    box-shadow: none;\n",
              "  }\n",
              "\n",
              "  .colab-df-spinner {\n",
              "    border: 2px solid var(--fill-color);\n",
              "    border-color: transparent;\n",
              "    border-bottom-color: var(--fill-color);\n",
              "    animation:\n",
              "      spin 1s steps(1) infinite;\n",
              "  }\n",
              "\n",
              "  @keyframes spin {\n",
              "    0% {\n",
              "      border-color: transparent;\n",
              "      border-bottom-color: var(--fill-color);\n",
              "      border-left-color: var(--fill-color);\n",
              "    }\n",
              "    20% {\n",
              "      border-color: transparent;\n",
              "      border-left-color: var(--fill-color);\n",
              "      border-top-color: var(--fill-color);\n",
              "    }\n",
              "    30% {\n",
              "      border-color: transparent;\n",
              "      border-left-color: var(--fill-color);\n",
              "      border-top-color: var(--fill-color);\n",
              "      border-right-color: var(--fill-color);\n",
              "    }\n",
              "    40% {\n",
              "      border-color: transparent;\n",
              "      border-right-color: var(--fill-color);\n",
              "      border-top-color: var(--fill-color);\n",
              "    }\n",
              "    60% {\n",
              "      border-color: transparent;\n",
              "      border-right-color: var(--fill-color);\n",
              "    }\n",
              "    80% {\n",
              "      border-color: transparent;\n",
              "      border-right-color: var(--fill-color);\n",
              "      border-bottom-color: var(--fill-color);\n",
              "    }\n",
              "    90% {\n",
              "      border-color: transparent;\n",
              "      border-bottom-color: var(--fill-color);\n",
              "    }\n",
              "  }\n",
              "</style>\n",
              "\n",
              "      <script>\n",
              "        async function quickchart(key) {\n",
              "          const quickchartButtonEl =\n",
              "            document.querySelector('#' + key + ' button');\n",
              "          quickchartButtonEl.disabled = true;  // To prevent multiple clicks.\n",
              "          quickchartButtonEl.classList.add('colab-df-spinner');\n",
              "          try {\n",
              "            const charts = await google.colab.kernel.invokeFunction(\n",
              "                'suggestCharts', [key], {});\n",
              "          } catch (error) {\n",
              "            console.error('Error during call to suggestCharts:', error);\n",
              "          }\n",
              "          quickchartButtonEl.classList.remove('colab-df-spinner');\n",
              "          quickchartButtonEl.classList.add('colab-df-quickchart-complete');\n",
              "        }\n",
              "        (() => {\n",
              "          let quickchartButtonEl =\n",
              "            document.querySelector('#df-85d5104c-3fff-4c62-be00-ca6bb36af2f2 button');\n",
              "          quickchartButtonEl.style.display =\n",
              "            google.colab.kernel.accessAllowed ? 'block' : 'none';\n",
              "        })();\n",
              "      </script>\n",
              "    </div>\n",
              "\n",
              "    </div>\n",
              "  </div>\n"
            ],
            "application/vnd.google.colaboratory.intrinsic+json": {
              "type": "dataframe",
              "variable_name": "df"
            }
          },
          "metadata": {},
          "execution_count": 3
        }
      ],
      "source": [
        "# @title\n",
        "# Load the HCC Dataset\n",
        "file_path = \"hcc-data.csv\"\n",
        "\n",
        "df = kagglehub.load_dataset(\n",
        "    KaggleDatasetAdapter.PANDAS,\n",
        "    \"mrsantos/hcc-dataset\",\n",
        "    file_path,\n",
        ")\n",
        "\n",
        "# Replace \"?\" with np.nan and convert all to numeric\n",
        "df.replace(\"?\", np.nan, inplace=True)\n",
        "df = df.apply(pd.to_numeric, errors='coerce')\n",
        "\n",
        "# Set column names from hcc-description.txt\n",
        "column_names = [\n",
        "    \"Gender\", \"Symptoms\", \"Alcohol\", \"HBsAg\", \"HBeAg\", \"HBcAb\", \"HCVAb\",\n",
        "    \"Cirrhosis\", \"Endemic\", \"Smoking\", \"Diabetes\", \"Obesity\", \"Hemochro\", \"AHT\",\n",
        "    \"CRI\", \"HIV\", \"NASH\", \"Varices\", \"Spleno\", \"PHT\", \"PVT\", \"Metastasis\", \"Hallmark\",\n",
        "    \"Age\", \"Grams_per_day\", \"Packs_per_year\", \"Performance_Status\", \"Encephalopathy\",\n",
        "    \"Ascites\", \"INR\", \"AFP\", \"Hemoglobin\", \"MCV\", \"Leucocytes\", \"Platelets\", \"Albumin\",\n",
        "    \"Total_Bilirubin\", \"ALT\", \"AST\", \"GGT\", \"ALP\", \"Total_Proteins\", \"Creatinine\",\n",
        "    \"Nodules\", \"Major_Dim\", \"Direct_Bilirubin\", \"Iron\", \"Oxygen_Saturation\",\n",
        "    \"Ferritin\", \"Survival\"\n",
        "]\n",
        "\n",
        "df.columns = column_names\n",
        "\n",
        "# Preview cleaned data\n",
        "df.head()\n"
      ]
    },
    {
      "cell_type": "markdown",
      "source": [
        "## **Data Cleaning & Feature Categorization**\n",
        "\n",
        "The raw dataset had ~10% missing data and included both **continuous labels** (e.g. albumin, bilirubin), **binary clinical indicators** (e.g. HBsAg, ascites), and **ordinal performance measures** (e.g. ECOG status). These were handled using the following preprocessing rules:\n",
        "\n",
        "\n",
        "*   **Median imputation** for continuous variables\n",
        "*   **Mode imputation** for binary/ordinal variables\n",
        "\n",
        "The preprocessing pipeline ensured that clinical structure and interpretability were preserved.\n"
      ],
      "metadata": {
        "id": "v413e8UJdMBF"
      }
    },
    {
      "cell_type": "code",
      "source": [
        "# @title\n",
        "# Define feature categories\n",
        "binary_features = [\n",
        "    \"Gender\", \"Symptoms\", \"Alcohol\", \"HBsAg\", \"HBeAg\", \"HBcAb\", \"HCVAb\", \"Cirrhosis\",\n",
        "    \"Endemic\", \"Smoking\", \"Diabetes\", \"Obesity\", \"Hemochro\", \"AHT\", \"CRI\", \"HIV\", \"NASH\",\n",
        "    \"Varices\", \"Spleno\", \"PHT\", \"PVT\", \"Metastasis\", \"Hallmark\"\n",
        "]\n",
        "\n",
        "ordinal_features = {\n",
        "    \"Performance_Status\": [0, 1, 2, 3, 4],\n",
        "    \"Ascites\": [1, 2, 3],\n",
        "    \"Encephalopathy\": [1, 2, 3]\n",
        "}\n",
        "\n",
        "continuous_features = [col for col in df.columns if col not in binary_features and col not in ordinal_features and col != \"Survival\"]\n"
      ],
      "metadata": {
        "id": "cM5T0WmGHkc2",
        "cellView": "form"
      },
      "execution_count": 4,
      "outputs": []
    },
    {
      "cell_type": "code",
      "source": [
        "# @title\n",
        "# Imputers\n",
        "binary_imputer = SimpleImputer(strategy='most_frequent')\n",
        "ordinal_imputer = SimpleImputer(strategy='most_frequent')\n",
        "cont_imputer = SimpleImputer(strategy='median')\n",
        "\n",
        "# Impute groups\n",
        "df_bin = pd.DataFrame(binary_imputer.fit_transform(df[binary_features]), columns=binary_features)\n",
        "df_ord = pd.DataFrame(ordinal_imputer.fit_transform(df[list(ordinal_features.keys())]), columns=ordinal_features.keys())\n",
        "df_cont = pd.DataFrame(cont_imputer.fit_transform(df[continuous_features]), columns=continuous_features)\n",
        "\n",
        "# Combine back\n",
        "X = pd.concat([df_bin, df_ord, df_cont], axis=1)\n",
        "y = df['Survival']\n"
      ],
      "metadata": {
        "id": "1uXwcia_HvHw",
        "cellView": "form"
      },
      "execution_count": 5,
      "outputs": []
    },
    {
      "cell_type": "code",
      "source": [
        "# @title\n",
        "ordinal_encoder = OrdinalEncoder(categories=[ordinal_features[feat] for feat in ordinal_features])\n",
        "df_ord_encoded = pd.DataFrame(\n",
        "    ordinal_encoder.fit_transform(df_ord),\n",
        "    columns=ordinal_features.keys()\n",
        ")"
      ],
      "metadata": {
        "id": "OA8eSdn0H1Fd",
        "cellView": "form"
      },
      "execution_count": 6,
      "outputs": []
    },
    {
      "cell_type": "code",
      "source": [
        "# @title\n",
        "X = pd.concat([df_bin, df_ord_encoded, df_cont], axis=1)"
      ],
      "metadata": {
        "id": "yYe2KPmaH69m",
        "cellView": "form"
      },
      "execution_count": 7,
      "outputs": []
    },
    {
      "cell_type": "markdown",
      "source": [
        "## **Model Training & Evaluation**\n",
        "\n",
        "To predict 1-year survival, I trained a **Random Forest classifier**, a model well-suited for handling non-linear clinical data and mixed feature types (e.g. labs, comorbidities, and scores). The dataset had a modest class imbalance (102 patients survived, while 63 did not). To address this, I applied class_weight='balanced', which adjusts the algorithm to pay proportionally more attention to the underrepresented class (in this case, patients who died). In clinical machine learning, class imbalance can severely impact model reliability, especially when the minority class represents high-risk patients. If the model underperforms on this group, it may fail to identify those who need urgent care, leading to missed interventions and worse outcomes. Moreover, over-predicting risk can cause alert fatigue in clinical dashboards, reducing trust in the system and increasing the chance that true positives are overlooked. Balancing class weights ensures more equitable attention to all patient outcomes.\n",
        "\n",
        "I used a **stratified train/test split**, ensuring both survival and death cases were proportionally represented in the test set. The model was evaluated on 33 held-out patients using metrics that reflect both discriminative power and real-world clinical relevance:\n",
        "\n",
        "*   **Accuracy**: 70%\n",
        "*   **AUC-ROC**: 0.70\n",
        "*   **F1 (survivors)**: 0.74\n",
        "\n",
        "While these metrics are competitive in a general data science context, they're even more meaningful in a clinical setting. In hepatocellular carcinoma, traditional scoring systems like **BCLC**, **ALBI**, or **CLIP** tend to achieve [AUCs in the range of **0.66 to 0.74**](https://journals.plos.org/plosone/article?id=10.1371%2Fjournal.pone.0216173). These scores are rule-based and easy to apply at the bedside, but they don't learn from new data or capture complex feature interactions.\n",
        "\n",
        "In contrast, my model learns from a broader range of features, adapts over time, and remains interpretable through SHAP values. It achieves similar predictive performance to these established clinical tools, while also offering scalability, customizability, and the ability to be integrated into real-time clinical decision systems or population health dashboards.\n"
      ],
      "metadata": {
        "id": "Clqb4bsyeiuo"
      }
    },
    {
      "cell_type": "code",
      "source": [
        "# @title\n",
        "X_train, X_test, y_train, y_test = train_test_split(X, y, test_size=0.2, stratify=y, random_state=42)\n"
      ],
      "metadata": {
        "id": "4mbGVWblH_yd",
        "cellView": "form"
      },
      "execution_count": 8,
      "outputs": []
    },
    {
      "cell_type": "code",
      "source": [
        "# @title\n",
        "rf = RandomForestClassifier(\n",
        "    n_estimators=100,\n",
        "    class_weight='balanced',\n",
        "    random_state=42\n",
        ")\n",
        "rf.fit(X_train, y_train)\n",
        "\n",
        "y_pred = rf.predict(X_test)\n",
        "y_proba = rf.predict_proba(X_test)[:, 1]\n",
        "\n",
        "print(classification_report(y_test, y_pred))\n",
        "print(\"ROC AUC Score:\", roc_auc_score(y_test, y_proba))\n"
      ],
      "metadata": {
        "colab": {
          "base_uri": "https://localhost:8080/"
        },
        "id": "Y6F8I4sIIJro",
        "outputId": "64841b50-e8ea-40c6-9484-73029b4d19d6",
        "cellView": "form"
      },
      "execution_count": 9,
      "outputs": [
        {
          "output_type": "stream",
          "name": "stdout",
          "text": [
            "              precision    recall  f1-score   support\n",
            "\n",
            "           0       0.60      0.69      0.64        13\n",
            "           1       0.78      0.70      0.74        20\n",
            "\n",
            "    accuracy                           0.70        33\n",
            "   macro avg       0.69      0.70      0.69        33\n",
            "weighted avg       0.71      0.70      0.70        33\n",
            "\n",
            "ROC AUC Score: 0.7019230769230769\n"
          ]
        }
      ]
    },
    {
      "cell_type": "code",
      "source": [
        "# @title\n",
        "fpr, tpr, _ = roc_curve(y_test, y_proba)\n",
        "roc_auc = auc(fpr, tpr)\n",
        "\n",
        "plt.figure(figsize=(6, 5))\n",
        "plt.plot(fpr, tpr, label=f\"ROC curve (AUC = {roc_auc:.2f})\", linewidth=2)\n",
        "plt.plot([0, 1], [0, 1], linestyle='--', color='gray')\n",
        "plt.xlabel(\"False Positive Rate\")\n",
        "plt.ylabel(\"True Positive Rate\")\n",
        "plt.title(\"ROC Curve\")\n",
        "plt.legend()\n",
        "plt.grid(True)\n",
        "plt.tight_layout()\n",
        "plt.show()\n"
      ],
      "metadata": {
        "colab": {
          "base_uri": "https://localhost:8080/",
          "height": 507
        },
        "id": "M144W5LkIJ_U",
        "outputId": "d7d1ed4c-1781-47c3-9484-8a4cbbe2610e",
        "cellView": "form"
      },
      "execution_count": 10,
      "outputs": [
        {
          "output_type": "display_data",
          "data": {
            "text/plain": [
              "<Figure size 600x500 with 1 Axes>"
            ],
            "image/png": "[encoded data removed]"
          },
          "metadata": {}
        }
      ]
    },
    {
      "cell_type": "markdown",
      "source": [
        "## **Interpreting Predictions with SHAP**\n",
        "\n",
        "To ensure the model's decisions were clinically grounded, I used **SHAP (SHapley Additive exPlanations)** to interpret feature contributions, allowing me to examine the global importance of each variable.\n",
        "\n",
        "The top predictive features were:\n",
        "\n",
        "*   **ALP (Alkaline Phosphatase)**: elevated in biliary obstruction and tumor progression\n",
        "*   **Hemoglobin**: lower levels may reflect anemia of chronic disease or liver dysfunction\n",
        "*   **AFP (Alpha-Fetoprotein)**: a widely used tumor marker for HCC\n",
        "*   **Performance Status (ECOG)**: a direct measure of patient frailty and functionality\n",
        "*   **Albumin, Ferritin, Direct Bilirubin, and Ascites**: markers of liver reserve and disease severity\n",
        "\n",
        "These features align with published HCC survival studies and clinical experience. Their inclusion validates that the model's predictions reflect medically relevant signals.\n",
        "\n",
        "\n"
      ],
      "metadata": {
        "id": "Sl5w40u7hl3k"
      }
    },
    {
      "cell_type": "code",
      "source": [
        "# @title\n",
        "# Initialize SHAP TreeExplainer\n",
        "explainer = shap.TreeExplainer(rf)\n",
        "\n",
        "# Compute SHAP values for the test set\n",
        "shap_values = explainer.shap_values(X_test)\n",
        "\n",
        "# Extract shape: (n_samples, n_features)\n",
        "shap_values_class1 = shap_values[:, :, 1]\n",
        "\n",
        "# Average absolute SHAP impact across patients\n",
        "shap_mean = np.abs(shap_values_class1).mean(axis=0)\n",
        "\n",
        "# Create a ranked Series\n",
        "shap_ranking = pd.Series(shap_mean, index=X_test.columns).sort_values(ascending=False)\n",
        "\n",
        "print(\"Top 10 most impactful features for predicting survival:\")\n",
        "print(shap_ranking.head(10))\n"
      ],
      "metadata": {
        "colab": {
          "base_uri": "https://localhost:8080/"
        },
        "id": "hGmwIK9YImnB",
        "outputId": "63e0223e-c24c-42da-f880-bc0d1c7347fd",
        "cellView": "form"
      },
      "execution_count": 11,
      "outputs": [
        {
          "output_type": "stream",
          "name": "stdout",
          "text": [
            "Top 10 most impactful features for predicting survival:\n",
            "ALP                   0.063523\n",
            "Hemoglobin            0.047370\n",
            "AFP                   0.038921\n",
            "Performance_Status    0.036243\n",
            "Ferritin              0.031387\n",
            "Iron                  0.022594\n",
            "Albumin               0.021319\n",
            "Direct_Bilirubin      0.018383\n",
            "Age                   0.017442\n",
            "Ascites               0.016849\n",
            "dtype: float64\n"
          ]
        }
      ]
    },
    {
      "cell_type": "code",
      "source": [
        "# @title\n",
        "shap_ranking.head(10).plot(kind='barh', figsize=(6,5), title=\"Top 10 Features Driving Survival\")\n",
        "plt.gca().invert_yaxis()\n",
        "plt.xlabel(\"Mean |SHAP| Value\")\n",
        "plt.tight_layout()\n",
        "plt.show()\n"
      ],
      "metadata": {
        "colab": {
          "base_uri": "https://localhost:8080/",
          "height": 507
        },
        "id": "exYwpoJnIybM",
        "outputId": "cdd709e2-e6fe-41f9-83c2-195445525229",
        "cellView": "form"
      },
      "execution_count": 12,
      "outputs": [
        {
          "output_type": "display_data",
          "data": {
            "text/plain": [
              "<Figure size 600x500 with 1 Axes>"
            ],
            "image/png": "[encoded data removed]"
          },
          "metadata": {}
        }
      ]
    },
    {
      "cell_type": "markdown",
      "source": [
        "## **Conclusion**\n",
        "\n",
        "This project shows how interpretable machine learning can complement clinical practice in predicting 1-year survival for HCC patients. The model's performance aligns with traditional scoring systems, while offering greater flexibility and insight through feature-level explanations. By surfacing key clinical predictors and handling real-world data challenges, this approach highlights the potential for data science to support risk stratification and care prioritization in oncology-focused population health initiatives."
      ],
      "metadata": {
        "id": "n60PMIKujGsl"
      }
    }
  ]
}